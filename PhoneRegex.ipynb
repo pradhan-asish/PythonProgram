{
 "cells": [
  {
   "cell_type": "code",
   "execution_count": 16,
   "id": "30d2f2fe",
   "metadata": {},
   "outputs": [
    {
     "name": "stdout",
     "output_type": "stream",
     "text": [
      "['506-203-1814', '716-387-4756', '501-919-6026', '351-796-1964']\n"
     ]
    }
   ],
   "source": [
    "import re\n",
    "\n",
    "##Regex Expression for phone Number\n",
    "phoneRegex = re.compile ( r'''\n",
    "(((\\d\\d\\d)|(\\(\\d\\d\\d\\)))? #area code\n",
    "(-|\\s) # first separator\n",
    "\\d\\d\\d # first 3 digits\n",
    "-      # separator\n",
    "\\d\\d\\d\\d # last 4 digits\n",
    "(((ext(\\.)?\\s)|x) # extension word-part (Optional)\n",
    "(\\d{2,5}))?)       # extension number-part (Optional)\n",
    "''', re.VERBOSE)\n",
    "\n",
    "text = 'Rudolph Joyce joyc5185@sbcglobal.net 506-203-1814 Raymundo Griffin rgriffin45@optonline.net 716-387-4756 Stanton Burris sburris@comcast.net 501-919-6026 Newton Huff nhuff@att.net 351-796-1964'\n",
    "phoneNums = phoneRegex.findall(text)\n",
    "phonelist = []\n",
    "for phoneno in phoneNums :\n",
    "    phonelist.append(phoneno[0])\n",
    "print(phonelist)\n",
    "\n"
   ]
  },
  {
   "cell_type": "code",
   "execution_count": null,
   "id": "a9bc5841",
   "metadata": {},
   "outputs": [],
   "source": []
  }
 ],
 "metadata": {
  "kernelspec": {
   "display_name": "Python 3",
   "language": "python",
   "name": "python3"
  },
  "language_info": {
   "codemirror_mode": {
    "name": "ipython",
    "version": 3
   },
   "file_extension": ".py",
   "mimetype": "text/x-python",
   "name": "python",
   "nbconvert_exporter": "python",
   "pygments_lexer": "ipython3",
   "version": "3.8.8"
  }
 },
 "nbformat": 4,
 "nbformat_minor": 5
}
