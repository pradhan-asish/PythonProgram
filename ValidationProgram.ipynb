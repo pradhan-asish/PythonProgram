{
 "cells": [
  {
   "cell_type": "code",
   "execution_count": 1,
   "id": "4abb548b",
   "metadata": {},
   "outputs": [
    {
     "name": "stdout",
     "output_type": "stream",
     "text": [
      "#$@#$\n",
      "False\n",
      "False\n",
      "False\n",
      "False\n"
     ]
    }
   ],
   "source": [
    "if __name__ == '__main__':\n",
    "    s = input()\n",
    "    j = 0\n",
    "    for i in s:\n",
    "        if i.isalnum():\n",
    "            print(i.isalnum())\n",
    "            break\n",
    "        j= j+1\n",
    "        if i== int(len(s)):\n",
    "            print(i.isalnum())\n",
    "    j = 0\n",
    "    for i in s:\n",
    "        if i.isalpha():\n",
    "            print(i.isalpha())\n",
    "            break\n",
    "        j= j+1\n",
    "        if j== int(len(s)):\n",
    "            print(i.isalpha())\n",
    "    j = 0\n",
    "    for i in s:\n",
    "        if i.isdigit():\n",
    "            print(i.isdigit())\n",
    "            break\n",
    "        j= j+1\n",
    "        if j == int(len(s)):\n",
    "            print(i.isdigit())\n",
    "\n",
    "    j = 0    \n",
    "    for i in s:\n",
    "        if i.islower():\n",
    "            print(i.islower())\n",
    "            break\n",
    "        j= j+1\n",
    "        if j== int(len(s)):\n",
    "            print(i.islower())\n",
    "\n",
    "    j = 0    \n",
    "    for i in s:\n",
    "        if i.isupper():\n",
    "            print(i.isupper())\n",
    "            break\n",
    "        j= j+1\n",
    "        if j == int(len(s)):\n",
    "            print(i.isupper())\n",
    "\n",
    "    "
   ]
  },
  {
   "cell_type": "code",
   "execution_count": null,
   "id": "4c4ea3f5",
   "metadata": {},
   "outputs": [],
   "source": []
  }
 ],
 "metadata": {
  "kernelspec": {
   "display_name": "Python 3",
   "language": "python",
   "name": "python3"
  },
  "language_info": {
   "codemirror_mode": {
    "name": "ipython",
    "version": 3
   },
   "file_extension": ".py",
   "mimetype": "text/x-python",
   "name": "python",
   "nbconvert_exporter": "python",
   "pygments_lexer": "ipython3",
   "version": "3.8.8"
  }
 },
 "nbformat": 4,
 "nbformat_minor": 5
}
