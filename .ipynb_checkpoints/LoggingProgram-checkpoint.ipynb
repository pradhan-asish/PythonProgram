{
 "cells": [
  {
   "cell_type": "code",
   "execution_count": 2,
   "id": "08a97b54",
   "metadata": {},
   "outputs": [
    {
     "name": "stdout",
     "output_type": "stream",
     "text": [
      "Factorial of the number:120\n"
     ]
    }
   ],
   "source": [
    "import logging\n",
    "\n",
    "## Logging method\n",
    "\n",
    "logging.basicConfig(filename = 'LoggingFile.txt' , level=logging.DEBUG, format = '%(asctime)s - %(levelname)s - %(message)s')\n",
    "\n",
    "##Logging attributes : 'DEBUG' , 'INFO' , 'WARNING' , 'ERROR' , 'CRITICAL'\n",
    "\n",
    "#logging.disable(logging.DEBUG)\n",
    "## Disable aal the logging statments below the priority level of WARNING\n",
    "\n",
    "def factorial(n):\n",
    "    logging.info('The input number is:'+str(n))\n",
    "    fact = 1 ;\n",
    "    for i in range(1,n+1):\n",
    "        fact = fact * i\n",
    "        logging.debug('The i is %s and total is %s : ' %( i , fact) )\n",
    "\n",
    "    logging.warning('The factorial of number is:'+str(n))    \n",
    "    print('Factorial of the number:'+ str(fact))\n",
    "    return fact\n",
    "\n",
    "logging.critical(factorial(5))\n",
    "    \n",
    "\n"
   ]
  },
  {
   "cell_type": "code",
   "execution_count": null,
   "id": "7f293de5",
   "metadata": {},
   "outputs": [],
   "source": []
  }
 ],
 "metadata": {
  "kernelspec": {
   "display_name": "Python 3",
   "language": "python",
   "name": "python3"
  },
  "language_info": {
   "codemirror_mode": {
    "name": "ipython",
    "version": 3
   },
   "file_extension": ".py",
   "mimetype": "text/x-python",
   "name": "python",
   "nbconvert_exporter": "python",
   "pygments_lexer": "ipython3",
   "version": "3.8.8"
  }
 },
 "nbformat": 4,
 "nbformat_minor": 5
}
