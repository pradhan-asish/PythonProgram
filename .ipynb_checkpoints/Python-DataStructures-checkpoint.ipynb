{
 "cells": [
  {
   "cell_type": "markdown",
   "id": "550afd01",
   "metadata": {},
   "source": [
    "# Data Structure in python"
   ]
  },
  {
   "cell_type": "code",
   "execution_count": 1,
   "id": "64e68eb0",
   "metadata": {},
   "outputs": [],
   "source": [
    "fruits = ['orange', 'apple', 'pear', 'banana', 'kiwi', 'apple', 'banana']"
   ]
  },
  {
   "cell_type": "code",
   "execution_count": 2,
   "id": "158e8693",
   "metadata": {},
   "outputs": [
    {
     "data": {
      "text/plain": [
       "2"
      ]
     },
     "execution_count": 2,
     "metadata": {},
     "output_type": "execute_result"
    }
   ],
   "source": [
    "fruits.count('apple')"
   ]
  },
  {
   "cell_type": "code",
   "execution_count": 3,
   "id": "3abd8dbe",
   "metadata": {},
   "outputs": [
    {
     "data": {
      "text/plain": [
       "3"
      ]
     },
     "execution_count": 3,
     "metadata": {},
     "output_type": "execute_result"
    }
   ],
   "source": [
    "fruits.index('banana')"
   ]
  },
  {
   "cell_type": "code",
   "execution_count": 4,
   "id": "647bfc7a",
   "metadata": {},
   "outputs": [],
   "source": [
    "fruits.reverse()"
   ]
  },
  {
   "cell_type": "code",
   "execution_count": 5,
   "id": "cff6953c",
   "metadata": {},
   "outputs": [
    {
     "data": {
      "text/plain": [
       "['banana', 'apple', 'kiwi', 'banana', 'pear', 'apple', 'orange']"
      ]
     },
     "execution_count": 5,
     "metadata": {},
     "output_type": "execute_result"
    }
   ],
   "source": [
    "fruits"
   ]
  },
  {
   "cell_type": "code",
   "execution_count": 6,
   "id": "08aff80c",
   "metadata": {},
   "outputs": [],
   "source": [
    "fruits.append('grape')"
   ]
  },
  {
   "cell_type": "code",
   "execution_count": 7,
   "id": "6b031437",
   "metadata": {},
   "outputs": [],
   "source": [
    "fruits.sort()"
   ]
  },
  {
   "cell_type": "code",
   "execution_count": 8,
   "id": "9fd3c472",
   "metadata": {},
   "outputs": [
    {
     "data": {
      "text/plain": [
       "['apple', 'apple', 'banana', 'banana', 'grape', 'kiwi', 'orange', 'pear']"
      ]
     },
     "execution_count": 8,
     "metadata": {},
     "output_type": "execute_result"
    }
   ],
   "source": [
    "fruits"
   ]
  },
  {
   "cell_type": "code",
   "execution_count": 9,
   "id": "270a2620",
   "metadata": {},
   "outputs": [
    {
     "data": {
      "text/plain": [
       "'pear'"
      ]
     },
     "execution_count": 9,
     "metadata": {},
     "output_type": "execute_result"
    }
   ],
   "source": [
    "fruits.pop()"
   ]
  },
  {
   "cell_type": "markdown",
   "id": "4e89fec1",
   "metadata": {},
   "source": [
    "# Stacks"
   ]
  },
  {
   "cell_type": "code",
   "execution_count": 10,
   "id": "6c72d250",
   "metadata": {},
   "outputs": [],
   "source": [
    "stack = [3, 4, 5]"
   ]
  },
  {
   "cell_type": "code",
   "execution_count": 11,
   "id": "9116518d",
   "metadata": {},
   "outputs": [],
   "source": [
    "stack.append(6)"
   ]
  },
  {
   "cell_type": "code",
   "execution_count": 12,
   "id": "71270d79",
   "metadata": {},
   "outputs": [
    {
     "data": {
      "text/plain": [
       "[3, 4, 5, 6]"
      ]
     },
     "execution_count": 12,
     "metadata": {},
     "output_type": "execute_result"
    }
   ],
   "source": [
    "stack"
   ]
  },
  {
   "cell_type": "code",
   "execution_count": 13,
   "id": "935ff6b1",
   "metadata": {},
   "outputs": [
    {
     "data": {
      "text/plain": [
       "6"
      ]
     },
     "execution_count": 13,
     "metadata": {},
     "output_type": "execute_result"
    }
   ],
   "source": [
    "stack.pop()"
   ]
  },
  {
   "cell_type": "markdown",
   "id": "1b5f3ba8",
   "metadata": {},
   "source": [
    "# Queues"
   ]
  },
  {
   "cell_type": "code",
   "execution_count": 14,
   "id": "67c04d80",
   "metadata": {},
   "outputs": [],
   "source": [
    "from collections import deque"
   ]
  },
  {
   "cell_type": "code",
   "execution_count": 15,
   "id": "a64772b7",
   "metadata": {},
   "outputs": [],
   "source": [
    "queue = deque([\"Eric\", \"John\", \"Michael\"])"
   ]
  },
  {
   "cell_type": "code",
   "execution_count": 16,
   "id": "4a3841d5",
   "metadata": {},
   "outputs": [],
   "source": [
    "queue.append(\"Terry\") "
   ]
  },
  {
   "cell_type": "code",
   "execution_count": 17,
   "id": "3e697084",
   "metadata": {},
   "outputs": [
    {
     "data": {
      "text/plain": [
       "'Eric'"
      ]
     },
     "execution_count": 17,
     "metadata": {},
     "output_type": "execute_result"
    }
   ],
   "source": [
    "queue.popleft() "
   ]
  },
  {
   "cell_type": "code",
   "execution_count": null,
   "id": "d760ee53",
   "metadata": {},
   "outputs": [],
   "source": []
  }
 ],
 "metadata": {
  "kernelspec": {
   "display_name": "Python 3",
   "language": "python",
   "name": "python3"
  },
  "language_info": {
   "codemirror_mode": {
    "name": "ipython",
    "version": 3
   },
   "file_extension": ".py",
   "mimetype": "text/x-python",
   "name": "python",
   "nbconvert_exporter": "python",
   "pygments_lexer": "ipython3",
   "version": "3.8.8"
  }
 },
 "nbformat": 4,
 "nbformat_minor": 5
}
