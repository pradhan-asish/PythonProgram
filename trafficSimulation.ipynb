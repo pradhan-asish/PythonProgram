{
 "cells": [
  {
   "cell_type": "code",
   "execution_count": 12,
   "id": "35a5efe2",
   "metadata": {},
   "outputs": [
    {
     "name": "stdout",
     "output_type": "stream",
     "text": [
      "{'EW': 'red', 'NS': 'yellow'}\n",
      "{'EW': 'green', 'NS': 'red'}\n"
     ]
    }
   ],
   "source": [
    "traffic_dir = {\"EW\":\"red\",\"NS\":\"yellow\"}\n",
    "\n",
    "\n",
    "def traffic_simulation(traffic_direction):\n",
    "    for key in traffic_direction.keys():\n",
    "        if traffic_direction[key] == 'green':\n",
    "            traffic_direction[key] = 'yellow'\n",
    "        elif traffic_direction[key] == 'red':\n",
    "            traffic_direction[key] = 'green'\n",
    "        elif traffic_direction[key] == 'yellow':\n",
    "            traffic_direction[key] = 'red'\n",
    "            \n",
    "    assert  'red' in traffic_direction.values() , 'One Direction should be Red' ## atleast 1 signal should be red \n",
    "\n",
    "print(traffic_dir)\n",
    "traffic_simulation(traffic_dir)\n",
    "print(traffic_dir)\n",
    "\n"
   ]
  },
  {
   "cell_type": "code",
   "execution_count": null,
   "id": "6a52e9f5",
   "metadata": {},
   "outputs": [],
   "source": []
  },
  {
   "cell_type": "code",
   "execution_count": null,
   "id": "2ca74407",
   "metadata": {},
   "outputs": [],
   "source": []
  }
 ],
 "metadata": {
  "kernelspec": {
   "display_name": "Python 3",
   "language": "python",
   "name": "python3"
  },
  "language_info": {
   "codemirror_mode": {
    "name": "ipython",
    "version": 3
   },
   "file_extension": ".py",
   "mimetype": "text/x-python",
   "name": "python",
   "nbconvert_exporter": "python",
   "pygments_lexer": "ipython3",
   "version": "3.8.8"
  }
 },
 "nbformat": 4,
 "nbformat_minor": 5
}
