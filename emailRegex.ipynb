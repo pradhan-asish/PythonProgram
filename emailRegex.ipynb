{
 "cells": [
  {
   "cell_type": "code",
   "execution_count": 8,
   "id": "a135debc",
   "metadata": {},
   "outputs": [
    {
     "name": "stdout",
     "output_type": "stream",
     "text": [
      "['pradhan.asish1994@gamil.com', 'sburris@comcast.net', 'rgriffin45@optonline.net']\n"
     ]
    }
   ],
   "source": [
    "import re\n",
    "\n",
    "emailRegex = re.compile('''\n",
    "[A-za-z0-9+_.]+ ## Before @ part\n",
    "\\@\n",
    "[A-za-z0-9+_]+ ## Before .domai part\n",
    "[.A-za-z]+  ## Domain Part\n",
    "''',re.VERBOSE)\n",
    "\n",
    "text = 'pradhan.asish1994@gamil.com sburris@comcast.net rgriffin45@optonline.net'\n",
    "\n",
    "mailAddress = emailRegex.findall(text)\n",
    "print(mailAddress)\n",
    "\n",
    "\n"
   ]
  },
  {
   "cell_type": "code",
   "execution_count": null,
   "id": "ad33188a",
   "metadata": {},
   "outputs": [],
   "source": []
  }
 ],
 "metadata": {
  "kernelspec": {
   "display_name": "Python 3",
   "language": "python",
   "name": "python3"
  },
  "language_info": {
   "codemirror_mode": {
    "name": "ipython",
    "version": 3
   },
   "file_extension": ".py",
   "mimetype": "text/x-python",
   "name": "python",
   "nbconvert_exporter": "python",
   "pygments_lexer": "ipython3",
   "version": "3.8.8"
  }
 },
 "nbformat": 4,
 "nbformat_minor": 5
}
