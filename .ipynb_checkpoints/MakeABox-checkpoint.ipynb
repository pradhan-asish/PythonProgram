{
 "cells": [
  {
   "cell_type": "code",
   "execution_count": 27,
   "id": "2b378734",
   "metadata": {},
   "outputs": [
    {
     "name": "stdout",
     "output_type": "stream",
     "text": [
      "The traceback error was written into error_log.txt\n"
     ]
    }
   ],
   "source": [
    "##Box Creation with traceback example\n",
    "import traceback\n",
    "\n",
    "\n",
    "def boxCreation(symbol, width, length):\n",
    "    try:\n",
    "        if len(symbol) > 1:\n",
    "            raise Exception('Symbol cannot have length more than 2')\n",
    "            \n",
    "        if  width < 2 or length < 2:\n",
    "            raise Exception('Symbol cannot have length or width less than 2')\n",
    "        \n",
    "        print((symbol)*length)\n",
    "    \n",
    "        for i in range(width-2):\n",
    "            print(symbol+ \" \" * (length-2) +symbol)\n",
    "    \n",
    "        print((symbol)*length)\n",
    "        \n",
    "    except:\n",
    "        errorfile = open('box_error_log.txt','a')\n",
    "        errorfile.write(traceback.format_exc()) ## Traceback to write the exception into file\n",
    "        errorfile.close()\n",
    "        print('The traceback error was written into error_log.txt')\n",
    "        \n",
    "boxCreation('@',1,20)\n"
   ]
  },
  {
   "cell_type": "code",
   "execution_count": null,
   "id": "a95888a5",
   "metadata": {},
   "outputs": [],
   "source": []
  }
 ],
 "metadata": {
  "kernelspec": {
   "display_name": "Python 3",
   "language": "python",
   "name": "python3"
  },
  "language_info": {
   "codemirror_mode": {
    "name": "ipython",
    "version": 3
   },
   "file_extension": ".py",
   "mimetype": "text/x-python",
   "name": "python",
   "nbconvert_exporter": "python",
   "pygments_lexer": "ipython3",
   "version": "3.8.8"
  }
 },
 "nbformat": 4,
 "nbformat_minor": 5
}
