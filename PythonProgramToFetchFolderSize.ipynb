{
 "cells": [
  {
   "cell_type": "code",
   "execution_count": 33,
   "id": "5d779a96",
   "metadata": {},
   "outputs": [
    {
     "name": "stdout",
     "output_type": "stream",
     "text": [
      "C:\\Users\\HP\\Desktop\\GitHub\\Python\\PythonProgram\n",
      "['C0464.MP4', 'Hotel Mumbai 2018 720p BluRay DD5.1 x264-GL.mkv', 'teri_neri_yaari_sabsde_pyaari.weba', 'Video', 'VTS_01_1.VOB', 'VTS_01_2.VOB', 'Wedding Wishes.mp4']\n",
      "File Size is :10600594608\n"
     ]
    }
   ],
   "source": [
    "import os\n",
    "print(os.getcwd())\n",
    "str1 = 'C:\\\\Users\\\\HP\\\\Desktop\\\\media' ## directory name to be given\n",
    "print(os.listdir(str1))\n",
    "size = 0\n",
    "for file in os.listdir(str1):\n",
    "    if os.path.isfile(str1 + '\\\\' +file):\n",
    "        size= size + os.path.getsize(str1 + '\\\\' +file)\n",
    "print('File Size is :' +f'{size}' ) ## conversion int to str"
   ]
  },
  {
   "cell_type": "code",
   "execution_count": null,
   "id": "f0e49d87",
   "metadata": {},
   "outputs": [],
   "source": []
  },
  {
   "cell_type": "code",
   "execution_count": null,
   "id": "a1f9ded3",
   "metadata": {},
   "outputs": [],
   "source": []
  },
  {
   "cell_type": "code",
   "execution_count": null,
   "id": "e5f90aa4",
   "metadata": {},
   "outputs": [],
   "source": []
  }
 ],
 "metadata": {
  "kernelspec": {
   "display_name": "Python 3",
   "language": "python",
   "name": "python3"
  },
  "language_info": {
   "codemirror_mode": {
    "name": "ipython",
    "version": 3
   },
   "file_extension": ".py",
   "mimetype": "text/x-python",
   "name": "python",
   "nbconvert_exporter": "python",
   "pygments_lexer": "ipython3",
   "version": "3.8.8"
  }
 },
 "nbformat": 4,
 "nbformat_minor": 5
}
